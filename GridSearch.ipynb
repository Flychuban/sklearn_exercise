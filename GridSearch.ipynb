{
  "nbformat": 4,
  "nbformat_minor": 0,
  "metadata": {
    "colab": {
      "provenance": [],
      "gpuType": "T4",
      "authorship_tag": "ABX9TyNJ0ExNnAJw/PQiLHCZD4zE",
      "include_colab_link": true
    },
    "kernelspec": {
      "name": "python3",
      "display_name": "Python 3"
    },
    "language_info": {
      "name": "python"
    },
    "accelerator": "GPU"
  },
  "cells": [
    {
      "cell_type": "markdown",
      "metadata": {
        "id": "view-in-github",
        "colab_type": "text"
      },
      "source": [
        "<a href=\"https://colab.research.google.com/github/Flychuban/sklearn_exercise/blob/main/GridSearch.ipynb\" target=\"_parent\"><img src=\"https://colab.research.google.com/assets/colab-badge.svg\" alt=\"Open In Colab\"/></a>"
      ]
    },
    {
      "cell_type": "code",
      "execution_count": 1,
      "metadata": {
        "id": "3_MylO9JTCma"
      },
      "outputs": [],
      "source": [
        "from sklearn.datasets import load_digits\n",
        "import pandas as pd\n",
        "import numpy as np\n",
        "from sklearn.model_selection import GridSearchCV"
      ]
    },
    {
      "cell_type": "code",
      "source": [
        "# Data loaded\n",
        "dataset = load_digits()\n",
        "X = dataset.images.reshape(len(dataset.images), -1)"
      ],
      "metadata": {
        "id": "M2xuJdXQTWBY"
      },
      "execution_count": 2,
      "outputs": []
    },
    {
      "cell_type": "code",
      "source": [
        "y = dataset.target"
      ],
      "metadata": {
        "id": "pLz3ytLlTdey"
      },
      "execution_count": 3,
      "outputs": []
    },
    {
      "cell_type": "code",
      "source": [
        "from sklearn import svm\n",
        "from sklearn.ensemble import RandomForestClassifier\n",
        "from sklearn.linear_model import LogisticRegression\n",
        "from sklearn.naive_bayes import GaussianNB, MultinomialNB\n",
        "from sklearn.tree import DecisionTreeClassifier"
      ],
      "metadata": {
        "id": "i_bw8XirTxEt"
      },
      "execution_count": 4,
      "outputs": []
    },
    {
      "cell_type": "code",
      "source": [
        "# Train Test Split\n",
        "from sklearn.model_selection import train_test_split\n",
        "\n",
        "X_train, X_test, y_train, y_test = train_test_split(X, y, test_size=0.2, random_state=10, stratify=y)"
      ],
      "metadata": {
        "id": "HgUCoAISVydj"
      },
      "execution_count": 5,
      "outputs": []
    },
    {
      "cell_type": "code",
      "source": [
        "param_grid_rforest = {\n",
        "    'n_estimators': [int(x) for x in np.linspace(start=10, stop=80, num=10)],\n",
        "    'max_features': ['auto', 'sqrt'],\n",
        "    'max_depth': [2, 4],\n",
        "    'min_samples_split': [2, 5],\n",
        "    'min_samples_leaf': [1, 2],\n",
        "    'bootstrap': [True, False]\n",
        "}"
      ],
      "metadata": {
        "id": "CHTfMxV4V50X"
      },
      "execution_count": 6,
      "outputs": []
    },
    {
      "cell_type": "code",
      "source": [
        "rforest_model = RandomForestClassifier()"
      ],
      "metadata": {
        "id": "NXUPvzWXR7PX"
      },
      "execution_count": 7,
      "outputs": []
    },
    {
      "cell_type": "code",
      "source": [
        "rforestGridSearch = GridSearchCV(estimator = rforest_model, param_grid = param_grid_rforest, cv = 10, verbose=2, n_jobs=4)"
      ],
      "metadata": {
        "id": "YoIyb9RGSAjt"
      },
      "execution_count": 8,
      "outputs": []
    },
    {
      "cell_type": "code",
      "source": [
        "rforestGridSearch.fit(X_train, y_train)"
      ],
      "metadata": {
        "colab": {
          "base_uri": "https://localhost:8080/",
          "height": 135
        },
        "id": "BzaYjk7ZTJ6F",
        "outputId": "30de31d9-81ba-44c6-fa07-5099dbf14ff9"
      },
      "execution_count": 9,
      "outputs": [
        {
          "output_type": "stream",
          "name": "stdout",
          "text": [
            "Fitting 10 folds for each of 320 candidates, totalling 3200 fits\n"
          ]
        },
        {
          "output_type": "execute_result",
          "data": {
            "text/plain": [
              "GridSearchCV(cv=10, estimator=RandomForestClassifier(), n_jobs=4,\n",
              "             param_grid={'bootstrap': [True, False], 'max_depth': [2, 4],\n",
              "                         'max_features': ['auto', 'sqrt'],\n",
              "                         'min_samples_leaf': [1, 2],\n",
              "                         'min_samples_split': [2, 5],\n",
              "                         'n_estimators': [10, 17, 25, 33, 41, 48, 56, 64, 72,\n",
              "                                          80]},\n",
              "             verbose=2)"
            ],
            "text/html": [
              "<style>#sk-container-id-1 {color: black;background-color: white;}#sk-container-id-1 pre{padding: 0;}#sk-container-id-1 div.sk-toggleable {background-color: white;}#sk-container-id-1 label.sk-toggleable__label {cursor: pointer;display: block;width: 100%;margin-bottom: 0;padding: 0.3em;box-sizing: border-box;text-align: center;}#sk-container-id-1 label.sk-toggleable__label-arrow:before {content: \"▸\";float: left;margin-right: 0.25em;color: #696969;}#sk-container-id-1 label.sk-toggleable__label-arrow:hover:before {color: black;}#sk-container-id-1 div.sk-estimator:hover label.sk-toggleable__label-arrow:before {color: black;}#sk-container-id-1 div.sk-toggleable__content {max-height: 0;max-width: 0;overflow: hidden;text-align: left;background-color: #f0f8ff;}#sk-container-id-1 div.sk-toggleable__content pre {margin: 0.2em;color: black;border-radius: 0.25em;background-color: #f0f8ff;}#sk-container-id-1 input.sk-toggleable__control:checked~div.sk-toggleable__content {max-height: 200px;max-width: 100%;overflow: auto;}#sk-container-id-1 input.sk-toggleable__control:checked~label.sk-toggleable__label-arrow:before {content: \"▾\";}#sk-container-id-1 div.sk-estimator input.sk-toggleable__control:checked~label.sk-toggleable__label {background-color: #d4ebff;}#sk-container-id-1 div.sk-label input.sk-toggleable__control:checked~label.sk-toggleable__label {background-color: #d4ebff;}#sk-container-id-1 input.sk-hidden--visually {border: 0;clip: rect(1px 1px 1px 1px);clip: rect(1px, 1px, 1px, 1px);height: 1px;margin: -1px;overflow: hidden;padding: 0;position: absolute;width: 1px;}#sk-container-id-1 div.sk-estimator {font-family: monospace;background-color: #f0f8ff;border: 1px dotted black;border-radius: 0.25em;box-sizing: border-box;margin-bottom: 0.5em;}#sk-container-id-1 div.sk-estimator:hover {background-color: #d4ebff;}#sk-container-id-1 div.sk-parallel-item::after {content: \"\";width: 100%;border-bottom: 1px solid gray;flex-grow: 1;}#sk-container-id-1 div.sk-label:hover label.sk-toggleable__label {background-color: #d4ebff;}#sk-container-id-1 div.sk-serial::before {content: \"\";position: absolute;border-left: 1px solid gray;box-sizing: border-box;top: 0;bottom: 0;left: 50%;z-index: 0;}#sk-container-id-1 div.sk-serial {display: flex;flex-direction: column;align-items: center;background-color: white;padding-right: 0.2em;padding-left: 0.2em;position: relative;}#sk-container-id-1 div.sk-item {position: relative;z-index: 1;}#sk-container-id-1 div.sk-parallel {display: flex;align-items: stretch;justify-content: center;background-color: white;position: relative;}#sk-container-id-1 div.sk-item::before, #sk-container-id-1 div.sk-parallel-item::before {content: \"\";position: absolute;border-left: 1px solid gray;box-sizing: border-box;top: 0;bottom: 0;left: 50%;z-index: -1;}#sk-container-id-1 div.sk-parallel-item {display: flex;flex-direction: column;z-index: 1;position: relative;background-color: white;}#sk-container-id-1 div.sk-parallel-item:first-child::after {align-self: flex-end;width: 50%;}#sk-container-id-1 div.sk-parallel-item:last-child::after {align-self: flex-start;width: 50%;}#sk-container-id-1 div.sk-parallel-item:only-child::after {width: 0;}#sk-container-id-1 div.sk-dashed-wrapped {border: 1px dashed gray;margin: 0 0.4em 0.5em 0.4em;box-sizing: border-box;padding-bottom: 0.4em;background-color: white;}#sk-container-id-1 div.sk-label label {font-family: monospace;font-weight: bold;display: inline-block;line-height: 1.2em;}#sk-container-id-1 div.sk-label-container {text-align: center;}#sk-container-id-1 div.sk-container {/* jupyter's `normalize.less` sets `[hidden] { display: none; }` but bootstrap.min.css set `[hidden] { display: none !important; }` so we also need the `!important` here to be able to override the default hidden behavior on the sphinx rendered scikit-learn.org. See: https://github.com/scikit-learn/scikit-learn/issues/21755 */display: inline-block !important;position: relative;}#sk-container-id-1 div.sk-text-repr-fallback {display: none;}</style><div id=\"sk-container-id-1\" class=\"sk-top-container\"><div class=\"sk-text-repr-fallback\"><pre>GridSearchCV(cv=10, estimator=RandomForestClassifier(), n_jobs=4,\n",
              "             param_grid={&#x27;bootstrap&#x27;: [True, False], &#x27;max_depth&#x27;: [2, 4],\n",
              "                         &#x27;max_features&#x27;: [&#x27;auto&#x27;, &#x27;sqrt&#x27;],\n",
              "                         &#x27;min_samples_leaf&#x27;: [1, 2],\n",
              "                         &#x27;min_samples_split&#x27;: [2, 5],\n",
              "                         &#x27;n_estimators&#x27;: [10, 17, 25, 33, 41, 48, 56, 64, 72,\n",
              "                                          80]},\n",
              "             verbose=2)</pre><b>In a Jupyter environment, please rerun this cell to show the HTML representation or trust the notebook. <br />On GitHub, the HTML representation is unable to render, please try loading this page with nbviewer.org.</b></div><div class=\"sk-container\" hidden><div class=\"sk-item sk-dashed-wrapped\"><div class=\"sk-label-container\"><div class=\"sk-label sk-toggleable\"><input class=\"sk-toggleable__control sk-hidden--visually\" id=\"sk-estimator-id-1\" type=\"checkbox\" ><label for=\"sk-estimator-id-1\" class=\"sk-toggleable__label sk-toggleable__label-arrow\">GridSearchCV</label><div class=\"sk-toggleable__content\"><pre>GridSearchCV(cv=10, estimator=RandomForestClassifier(), n_jobs=4,\n",
              "             param_grid={&#x27;bootstrap&#x27;: [True, False], &#x27;max_depth&#x27;: [2, 4],\n",
              "                         &#x27;max_features&#x27;: [&#x27;auto&#x27;, &#x27;sqrt&#x27;],\n",
              "                         &#x27;min_samples_leaf&#x27;: [1, 2],\n",
              "                         &#x27;min_samples_split&#x27;: [2, 5],\n",
              "                         &#x27;n_estimators&#x27;: [10, 17, 25, 33, 41, 48, 56, 64, 72,\n",
              "                                          80]},\n",
              "             verbose=2)</pre></div></div></div><div class=\"sk-parallel\"><div class=\"sk-parallel-item\"><div class=\"sk-item\"><div class=\"sk-label-container\"><div class=\"sk-label sk-toggleable\"><input class=\"sk-toggleable__control sk-hidden--visually\" id=\"sk-estimator-id-2\" type=\"checkbox\" ><label for=\"sk-estimator-id-2\" class=\"sk-toggleable__label sk-toggleable__label-arrow\">estimator: RandomForestClassifier</label><div class=\"sk-toggleable__content\"><pre>RandomForestClassifier()</pre></div></div></div><div class=\"sk-serial\"><div class=\"sk-item\"><div class=\"sk-estimator sk-toggleable\"><input class=\"sk-toggleable__control sk-hidden--visually\" id=\"sk-estimator-id-3\" type=\"checkbox\" ><label for=\"sk-estimator-id-3\" class=\"sk-toggleable__label sk-toggleable__label-arrow\">RandomForestClassifier</label><div class=\"sk-toggleable__content\"><pre>RandomForestClassifier()</pre></div></div></div></div></div></div></div></div></div></div>"
            ]
          },
          "metadata": {},
          "execution_count": 9
        }
      ]
    },
    {
      "cell_type": "code",
      "source": [
        "rforestGridSearch.best_params_"
      ],
      "metadata": {
        "colab": {
          "base_uri": "https://localhost:8080/"
        },
        "id": "X6pa7l7uU-Bv",
        "outputId": "f17f67f5-f140-44fb-ef98-09410f4fc4d8"
      },
      "execution_count": 11,
      "outputs": [
        {
          "output_type": "execute_result",
          "data": {
            "text/plain": [
              "{'bootstrap': True,\n",
              " 'max_depth': 4,\n",
              " 'max_features': 'sqrt',\n",
              " 'min_samples_leaf': 2,\n",
              " 'min_samples_split': 5,\n",
              " 'n_estimators': 72}"
            ]
          },
          "metadata": {},
          "execution_count": 11
        }
      ]
    },
    {
      "cell_type": "code",
      "source": [
        "rforestGridSearch.score(X_test, y_test)"
      ],
      "metadata": {
        "colab": {
          "base_uri": "https://localhost:8080/"
        },
        "id": "PfjCetbnTP-m",
        "outputId": "fa3c6365-c789-4761-bcf8-002384d95240"
      },
      "execution_count": 10,
      "outputs": [
        {
          "output_type": "execute_result",
          "data": {
            "text/plain": [
              "0.9277777777777778"
            ]
          },
          "metadata": {},
          "execution_count": 10
        }
      ]
    },
    {
      "cell_type": "markdown",
      "source": [
        " Random Forest score = 92.7%"
      ],
      "metadata": {
        "id": "zSod-pr2Vh1L"
      }
    },
    {
      "cell_type": "code",
      "source": [
        "param_grid_svc = {\n",
        "    'C': [0.1, 1, 10, 100, 1000],\n",
        "    'gamma': [1, 0.1, 0.01, 0.001, 0.0001],\n",
        "    'kernel': ['rbf']\n",
        "}"
      ],
      "metadata": {
        "id": "m8AUsfImV3OS"
      },
      "execution_count": 14,
      "outputs": []
    },
    {
      "cell_type": "code",
      "source": [
        "svc_model = svm.SVC()"
      ],
      "metadata": {
        "id": "uObbgsbnVn3m"
      },
      "execution_count": 15,
      "outputs": []
    },
    {
      "cell_type": "code",
      "source": [
        "svc_GridSearch = GridSearchCV(estimator=svc_model, param_grid=param_grid_svc, cv=10, verbose=3, refit=True)"
      ],
      "metadata": {
        "id": "CaCwWtSFVst1"
      },
      "execution_count": 17,
      "outputs": []
    },
    {
      "cell_type": "code",
      "source": [
        "svc_GridSearch.fit(X_train, y_train)"
      ],
      "metadata": {
        "colab": {
          "base_uri": "https://localhost:8080/",
          "height": 1000
        },
        "id": "7INHaJyUWgHX",
        "outputId": "9a60b0cd-5423-430f-8b5b-4cd88a9e205f"
      },
      "execution_count": 18,
      "outputs": [
        {
          "output_type": "stream",
          "name": "stdout",
          "text": [
            "Fitting 10 folds for each of 25 candidates, totalling 250 fits\n",
            "[CV 1/10] END .......C=0.1, gamma=1, kernel=rbf;, score=0.097 total time=   0.2s\n",
            "[CV 2/10] END .......C=0.1, gamma=1, kernel=rbf;, score=0.097 total time=   0.2s\n",
            "[CV 3/10] END .......C=0.1, gamma=1, kernel=rbf;, score=0.097 total time=   0.3s\n",
            "[CV 4/10] END .......C=0.1, gamma=1, kernel=rbf;, score=0.097 total time=   0.2s\n",
            "[CV 5/10] END .......C=0.1, gamma=1, kernel=rbf;, score=0.097 total time=   0.2s\n",
            "[CV 6/10] END .......C=0.1, gamma=1, kernel=rbf;, score=0.299 total time=   0.3s\n",
            "[CV 7/10] END .......C=0.1, gamma=1, kernel=rbf;, score=0.396 total time=   0.3s\n",
            "[CV 8/10] END .......C=0.1, gamma=1, kernel=rbf;, score=0.098 total time=   0.2s\n",
            "[CV 9/10] END .......C=0.1, gamma=1, kernel=rbf;, score=0.098 total time=   0.3s\n",
            "[CV 10/10] END ......C=0.1, gamma=1, kernel=rbf;, score=0.098 total time=   0.3s\n",
            "[CV 1/10] END .....C=0.1, gamma=0.1, kernel=rbf;, score=0.097 total time=   0.2s\n",
            "[CV 2/10] END .....C=0.1, gamma=0.1, kernel=rbf;, score=0.097 total time=   0.2s\n",
            "[CV 3/10] END .....C=0.1, gamma=0.1, kernel=rbf;, score=0.097 total time=   0.2s\n",
            "[CV 4/10] END .....C=0.1, gamma=0.1, kernel=rbf;, score=0.097 total time=   0.2s\n",
            "[CV 5/10] END .....C=0.1, gamma=0.1, kernel=rbf;, score=0.097 total time=   0.2s\n",
            "[CV 6/10] END .....C=0.1, gamma=0.1, kernel=rbf;, score=0.111 total time=   0.2s\n",
            "[CV 7/10] END .....C=0.1, gamma=0.1, kernel=rbf;, score=0.111 total time=   0.2s\n",
            "[CV 8/10] END .....C=0.1, gamma=0.1, kernel=rbf;, score=0.098 total time=   0.2s\n",
            "[CV 9/10] END .....C=0.1, gamma=0.1, kernel=rbf;, score=0.098 total time=   0.2s\n",
            "[CV 10/10] END ....C=0.1, gamma=0.1, kernel=rbf;, score=0.098 total time=   0.2s\n",
            "[CV 1/10] END ....C=0.1, gamma=0.01, kernel=rbf;, score=0.097 total time=   0.2s\n",
            "[CV 2/10] END ....C=0.1, gamma=0.01, kernel=rbf;, score=0.097 total time=   0.2s\n",
            "[CV 3/10] END ....C=0.1, gamma=0.01, kernel=rbf;, score=0.097 total time=   0.2s\n",
            "[CV 4/10] END ....C=0.1, gamma=0.01, kernel=rbf;, score=0.097 total time=   0.2s\n",
            "[CV 5/10] END ....C=0.1, gamma=0.01, kernel=rbf;, score=0.097 total time=   0.2s\n",
            "[CV 6/10] END ....C=0.1, gamma=0.01, kernel=rbf;, score=0.125 total time=   0.2s\n",
            "[CV 7/10] END ....C=0.1, gamma=0.01, kernel=rbf;, score=0.194 total time=   0.2s\n",
            "[CV 8/10] END ....C=0.1, gamma=0.01, kernel=rbf;, score=0.098 total time=   0.2s\n",
            "[CV 9/10] END ....C=0.1, gamma=0.01, kernel=rbf;, score=0.098 total time=   0.2s\n",
            "[CV 10/10] END ...C=0.1, gamma=0.01, kernel=rbf;, score=0.098 total time=   0.2s\n",
            "[CV 1/10] END ...C=0.1, gamma=0.001, kernel=rbf;, score=0.965 total time=   0.1s\n",
            "[CV 2/10] END ...C=0.1, gamma=0.001, kernel=rbf;, score=0.972 total time=   0.1s\n",
            "[CV 3/10] END ...C=0.1, gamma=0.001, kernel=rbf;, score=0.965 total time=   0.1s\n",
            "[CV 4/10] END ...C=0.1, gamma=0.001, kernel=rbf;, score=0.944 total time=   0.1s\n",
            "[CV 5/10] END ...C=0.1, gamma=0.001, kernel=rbf;, score=0.972 total time=   0.1s\n",
            "[CV 6/10] END ...C=0.1, gamma=0.001, kernel=rbf;, score=0.944 total time=   0.1s\n",
            "[CV 7/10] END ...C=0.1, gamma=0.001, kernel=rbf;, score=0.965 total time=   0.1s\n",
            "[CV 8/10] END ...C=0.1, gamma=0.001, kernel=rbf;, score=0.965 total time=   0.1s\n",
            "[CV 9/10] END ...C=0.1, gamma=0.001, kernel=rbf;, score=0.958 total time=   0.1s\n",
            "[CV 10/10] END ..C=0.1, gamma=0.001, kernel=rbf;, score=0.986 total time=   0.2s\n",
            "[CV 1/10] END ..C=0.1, gamma=0.0001, kernel=rbf;, score=0.910 total time=   0.3s\n",
            "[CV 2/10] END ..C=0.1, gamma=0.0001, kernel=rbf;, score=0.910 total time=   0.2s\n",
            "[CV 3/10] END ..C=0.1, gamma=0.0001, kernel=rbf;, score=0.917 total time=   0.2s\n",
            "[CV 4/10] END ..C=0.1, gamma=0.0001, kernel=rbf;, score=0.854 total time=   0.2s\n",
            "[CV 5/10] END ..C=0.1, gamma=0.0001, kernel=rbf;, score=0.917 total time=   0.3s\n",
            "[CV 6/10] END ..C=0.1, gamma=0.0001, kernel=rbf;, score=0.868 total time=   0.3s\n",
            "[CV 7/10] END ..C=0.1, gamma=0.0001, kernel=rbf;, score=0.875 total time=   0.3s\n",
            "[CV 8/10] END ..C=0.1, gamma=0.0001, kernel=rbf;, score=0.909 total time=   0.3s\n",
            "[CV 9/10] END ..C=0.1, gamma=0.0001, kernel=rbf;, score=0.881 total time=   0.3s\n",
            "[CV 10/10] END .C=0.1, gamma=0.0001, kernel=rbf;, score=0.916 total time=   0.3s\n",
            "[CV 1/10] END .........C=1, gamma=1, kernel=rbf;, score=0.097 total time=   0.4s\n",
            "[CV 2/10] END .........C=1, gamma=1, kernel=rbf;, score=0.097 total time=   0.4s\n",
            "[CV 3/10] END .........C=1, gamma=1, kernel=rbf;, score=0.097 total time=   0.3s\n",
            "[CV 4/10] END .........C=1, gamma=1, kernel=rbf;, score=0.097 total time=   0.3s\n",
            "[CV 5/10] END .........C=1, gamma=1, kernel=rbf;, score=0.097 total time=   0.3s\n",
            "[CV 6/10] END .........C=1, gamma=1, kernel=rbf;, score=0.201 total time=   0.3s\n",
            "[CV 7/10] END .........C=1, gamma=1, kernel=rbf;, score=0.104 total time=   0.3s\n",
            "[CV 8/10] END .........C=1, gamma=1, kernel=rbf;, score=0.098 total time=   0.3s\n",
            "[CV 9/10] END .........C=1, gamma=1, kernel=rbf;, score=0.098 total time=   0.3s\n",
            "[CV 10/10] END ........C=1, gamma=1, kernel=rbf;, score=0.098 total time=   0.3s\n",
            "[CV 1/10] END .......C=1, gamma=0.1, kernel=rbf;, score=0.097 total time=   0.2s\n",
            "[CV 2/10] END .......C=1, gamma=0.1, kernel=rbf;, score=0.097 total time=   0.2s\n",
            "[CV 3/10] END .......C=1, gamma=0.1, kernel=rbf;, score=0.097 total time=   0.3s\n",
            "[CV 4/10] END .......C=1, gamma=0.1, kernel=rbf;, score=0.097 total time=   0.2s\n",
            "[CV 5/10] END .......C=1, gamma=0.1, kernel=rbf;, score=0.097 total time=   0.2s\n",
            "[CV 6/10] END .......C=1, gamma=0.1, kernel=rbf;, score=0.118 total time=   0.2s\n",
            "[CV 7/10] END .......C=1, gamma=0.1, kernel=rbf;, score=0.125 total time=   0.2s\n",
            "[CV 8/10] END .......C=1, gamma=0.1, kernel=rbf;, score=0.098 total time=   0.2s\n",
            "[CV 9/10] END .......C=1, gamma=0.1, kernel=rbf;, score=0.098 total time=   0.2s\n",
            "[CV 10/10] END ......C=1, gamma=0.1, kernel=rbf;, score=0.098 total time=   0.2s\n",
            "[CV 1/10] END ......C=1, gamma=0.01, kernel=rbf;, score=0.840 total time=   0.2s\n",
            "[CV 2/10] END ......C=1, gamma=0.01, kernel=rbf;, score=0.854 total time=   0.2s\n",
            "[CV 3/10] END ......C=1, gamma=0.01, kernel=rbf;, score=0.792 total time=   0.2s\n",
            "[CV 4/10] END ......C=1, gamma=0.01, kernel=rbf;, score=0.868 total time=   0.2s\n",
            "[CV 5/10] END ......C=1, gamma=0.01, kernel=rbf;, score=0.861 total time=   0.2s\n",
            "[CV 6/10] END ......C=1, gamma=0.01, kernel=rbf;, score=0.799 total time=   0.2s\n",
            "[CV 7/10] END ......C=1, gamma=0.01, kernel=rbf;, score=0.812 total time=   0.2s\n",
            "[CV 8/10] END ......C=1, gamma=0.01, kernel=rbf;, score=0.832 total time=   0.2s\n",
            "[CV 9/10] END ......C=1, gamma=0.01, kernel=rbf;, score=0.846 total time=   0.2s\n",
            "[CV 10/10] END .....C=1, gamma=0.01, kernel=rbf;, score=0.881 total time=   0.2s\n",
            "[CV 1/10] END .....C=1, gamma=0.001, kernel=rbf;, score=0.993 total time=   0.1s\n",
            "[CV 2/10] END .....C=1, gamma=0.001, kernel=rbf;, score=1.000 total time=   0.1s\n",
            "[CV 3/10] END .....C=1, gamma=0.001, kernel=rbf;, score=1.000 total time=   0.1s\n",
            "[CV 4/10] END .....C=1, gamma=0.001, kernel=rbf;, score=0.993 total time=   0.1s\n",
            "[CV 5/10] END .....C=1, gamma=0.001, kernel=rbf;, score=0.993 total time=   0.1s\n",
            "[CV 6/10] END .....C=1, gamma=0.001, kernel=rbf;, score=0.979 total time=   0.1s\n",
            "[CV 7/10] END .....C=1, gamma=0.001, kernel=rbf;, score=0.993 total time=   0.1s\n",
            "[CV 8/10] END .....C=1, gamma=0.001, kernel=rbf;, score=0.986 total time=   0.1s\n",
            "[CV 9/10] END .....C=1, gamma=0.001, kernel=rbf;, score=0.993 total time=   0.1s\n",
            "[CV 10/10] END ....C=1, gamma=0.001, kernel=rbf;, score=1.000 total time=   0.1s\n",
            "[CV 1/10] END ....C=1, gamma=0.0001, kernel=rbf;, score=0.986 total time=   0.1s\n",
            "[CV 2/10] END ....C=1, gamma=0.0001, kernel=rbf;, score=0.986 total time=   0.1s\n",
            "[CV 3/10] END ....C=1, gamma=0.0001, kernel=rbf;, score=0.965 total time=   0.1s\n",
            "[CV 4/10] END ....C=1, gamma=0.0001, kernel=rbf;, score=0.944 total time=   0.1s\n",
            "[CV 5/10] END ....C=1, gamma=0.0001, kernel=rbf;, score=0.986 total time=   0.1s\n",
            "[CV 6/10] END ....C=1, gamma=0.0001, kernel=rbf;, score=0.958 total time=   0.1s\n",
            "[CV 7/10] END ....C=1, gamma=0.0001, kernel=rbf;, score=0.972 total time=   0.1s\n",
            "[CV 8/10] END ....C=1, gamma=0.0001, kernel=rbf;, score=0.979 total time=   0.1s\n",
            "[CV 9/10] END ....C=1, gamma=0.0001, kernel=rbf;, score=0.951 total time=   0.1s\n",
            "[CV 10/10] END ...C=1, gamma=0.0001, kernel=rbf;, score=0.986 total time=   0.1s\n",
            "[CV 1/10] END ........C=10, gamma=1, kernel=rbf;, score=0.097 total time=   0.3s\n",
            "[CV 2/10] END ........C=10, gamma=1, kernel=rbf;, score=0.097 total time=   0.3s\n",
            "[CV 3/10] END ........C=10, gamma=1, kernel=rbf;, score=0.097 total time=   0.3s\n",
            "[CV 4/10] END ........C=10, gamma=1, kernel=rbf;, score=0.097 total time=   0.3s\n",
            "[CV 5/10] END ........C=10, gamma=1, kernel=rbf;, score=0.097 total time=   0.3s\n",
            "[CV 6/10] END ........C=10, gamma=1, kernel=rbf;, score=0.201 total time=   0.3s\n",
            "[CV 7/10] END ........C=10, gamma=1, kernel=rbf;, score=0.104 total time=   0.3s\n",
            "[CV 8/10] END ........C=10, gamma=1, kernel=rbf;, score=0.098 total time=   0.3s\n",
            "[CV 9/10] END ........C=10, gamma=1, kernel=rbf;, score=0.098 total time=   0.3s\n",
            "[CV 10/10] END .......C=10, gamma=1, kernel=rbf;, score=0.098 total time=   0.3s\n",
            "[CV 1/10] END ......C=10, gamma=0.1, kernel=rbf;, score=0.097 total time=   0.3s\n",
            "[CV 2/10] END ......C=10, gamma=0.1, kernel=rbf;, score=0.097 total time=   0.4s\n",
            "[CV 3/10] END ......C=10, gamma=0.1, kernel=rbf;, score=0.097 total time=   0.4s\n",
            "[CV 4/10] END ......C=10, gamma=0.1, kernel=rbf;, score=0.097 total time=   0.4s\n",
            "[CV 5/10] END ......C=10, gamma=0.1, kernel=rbf;, score=0.097 total time=   0.3s\n",
            "[CV 6/10] END ......C=10, gamma=0.1, kernel=rbf;, score=0.118 total time=   0.3s\n",
            "[CV 7/10] END ......C=10, gamma=0.1, kernel=rbf;, score=0.125 total time=   0.3s\n",
            "[CV 8/10] END ......C=10, gamma=0.1, kernel=rbf;, score=0.098 total time=   0.4s\n",
            "[CV 9/10] END ......C=10, gamma=0.1, kernel=rbf;, score=0.098 total time=   0.3s\n",
            "[CV 10/10] END .....C=10, gamma=0.1, kernel=rbf;, score=0.098 total time=   0.4s\n",
            "[CV 1/10] END .....C=10, gamma=0.01, kernel=rbf;, score=0.840 total time=   0.4s\n",
            "[CV 2/10] END .....C=10, gamma=0.01, kernel=rbf;, score=0.861 total time=   0.3s\n",
            "[CV 3/10] END .....C=10, gamma=0.01, kernel=rbf;, score=0.799 total time=   0.4s\n",
            "[CV 4/10] END .....C=10, gamma=0.01, kernel=rbf;, score=0.875 total time=   0.3s\n",
            "[CV 5/10] END .....C=10, gamma=0.01, kernel=rbf;, score=0.868 total time=   0.2s\n",
            "[CV 6/10] END .....C=10, gamma=0.01, kernel=rbf;, score=0.819 total time=   0.2s\n",
            "[CV 7/10] END .....C=10, gamma=0.01, kernel=rbf;, score=0.812 total time=   0.3s\n",
            "[CV 8/10] END .....C=10, gamma=0.01, kernel=rbf;, score=0.839 total time=   0.2s\n",
            "[CV 9/10] END .....C=10, gamma=0.01, kernel=rbf;, score=0.853 total time=   0.3s\n",
            "[CV 10/10] END ....C=10, gamma=0.01, kernel=rbf;, score=0.902 total time=   0.3s\n",
            "[CV 1/10] END ....C=10, gamma=0.001, kernel=rbf;, score=0.993 total time=   0.1s\n",
            "[CV 2/10] END ....C=10, gamma=0.001, kernel=rbf;, score=1.000 total time=   0.1s\n",
            "[CV 3/10] END ....C=10, gamma=0.001, kernel=rbf;, score=0.986 total time=   0.1s\n",
            "[CV 4/10] END ....C=10, gamma=0.001, kernel=rbf;, score=0.986 total time=   0.1s\n",
            "[CV 5/10] END ....C=10, gamma=0.001, kernel=rbf;, score=0.993 total time=   0.1s\n",
            "[CV 6/10] END ....C=10, gamma=0.001, kernel=rbf;, score=0.979 total time=   0.1s\n",
            "[CV 7/10] END ....C=10, gamma=0.001, kernel=rbf;, score=0.986 total time=   0.1s\n",
            "[CV 8/10] END ....C=10, gamma=0.001, kernel=rbf;, score=0.986 total time=   0.1s\n",
            "[CV 9/10] END ....C=10, gamma=0.001, kernel=rbf;, score=1.000 total time=   0.1s\n",
            "[CV 10/10] END ...C=10, gamma=0.001, kernel=rbf;, score=1.000 total time=   0.1s\n",
            "[CV 1/10] END ...C=10, gamma=0.0001, kernel=rbf;, score=0.993 total time=   0.0s\n",
            "[CV 2/10] END ...C=10, gamma=0.0001, kernel=rbf;, score=1.000 total time=   0.0s\n",
            "[CV 3/10] END ...C=10, gamma=0.0001, kernel=rbf;, score=0.986 total time=   0.0s\n",
            "[CV 4/10] END ...C=10, gamma=0.0001, kernel=rbf;, score=0.993 total time=   0.0s\n",
            "[CV 5/10] END ...C=10, gamma=0.0001, kernel=rbf;, score=0.993 total time=   0.0s\n",
            "[CV 6/10] END ...C=10, gamma=0.0001, kernel=rbf;, score=0.986 total time=   0.0s\n",
            "[CV 7/10] END ...C=10, gamma=0.0001, kernel=rbf;, score=0.979 total time=   0.0s\n",
            "[CV 8/10] END ...C=10, gamma=0.0001, kernel=rbf;, score=0.986 total time=   0.0s\n",
            "[CV 9/10] END ...C=10, gamma=0.0001, kernel=rbf;, score=0.958 total time=   0.0s\n",
            "[CV 10/10] END ..C=10, gamma=0.0001, kernel=rbf;, score=1.000 total time=   0.0s\n",
            "[CV 1/10] END .......C=100, gamma=1, kernel=rbf;, score=0.097 total time=   0.3s\n",
            "[CV 2/10] END .......C=100, gamma=1, kernel=rbf;, score=0.097 total time=   0.3s\n",
            "[CV 3/10] END .......C=100, gamma=1, kernel=rbf;, score=0.097 total time=   0.3s\n",
            "[CV 4/10] END .......C=100, gamma=1, kernel=rbf;, score=0.097 total time=   0.3s\n",
            "[CV 5/10] END .......C=100, gamma=1, kernel=rbf;, score=0.097 total time=   0.3s\n",
            "[CV 6/10] END .......C=100, gamma=1, kernel=rbf;, score=0.201 total time=   0.3s\n",
            "[CV 7/10] END .......C=100, gamma=1, kernel=rbf;, score=0.104 total time=   0.3s\n",
            "[CV 8/10] END .......C=100, gamma=1, kernel=rbf;, score=0.098 total time=   0.3s\n",
            "[CV 9/10] END .......C=100, gamma=1, kernel=rbf;, score=0.098 total time=   0.3s\n",
            "[CV 10/10] END ......C=100, gamma=1, kernel=rbf;, score=0.098 total time=   0.3s\n",
            "[CV 1/10] END .....C=100, gamma=0.1, kernel=rbf;, score=0.097 total time=   0.3s\n",
            "[CV 2/10] END .....C=100, gamma=0.1, kernel=rbf;, score=0.097 total time=   0.2s\n",
            "[CV 3/10] END .....C=100, gamma=0.1, kernel=rbf;, score=0.097 total time=   0.3s\n",
            "[CV 4/10] END .....C=100, gamma=0.1, kernel=rbf;, score=0.097 total time=   0.3s\n",
            "[CV 5/10] END .....C=100, gamma=0.1, kernel=rbf;, score=0.097 total time=   0.3s\n",
            "[CV 6/10] END .....C=100, gamma=0.1, kernel=rbf;, score=0.118 total time=   0.3s\n",
            "[CV 7/10] END .....C=100, gamma=0.1, kernel=rbf;, score=0.125 total time=   0.3s\n",
            "[CV 8/10] END .....C=100, gamma=0.1, kernel=rbf;, score=0.098 total time=   0.2s\n",
            "[CV 9/10] END .....C=100, gamma=0.1, kernel=rbf;, score=0.098 total time=   0.2s\n",
            "[CV 10/10] END ....C=100, gamma=0.1, kernel=rbf;, score=0.098 total time=   0.3s\n",
            "[CV 1/10] END ....C=100, gamma=0.01, kernel=rbf;, score=0.840 total time=   0.3s\n",
            "[CV 2/10] END ....C=100, gamma=0.01, kernel=rbf;, score=0.861 total time=   0.2s\n",
            "[CV 3/10] END ....C=100, gamma=0.01, kernel=rbf;, score=0.799 total time=   0.3s\n",
            "[CV 4/10] END ....C=100, gamma=0.01, kernel=rbf;, score=0.875 total time=   0.2s\n",
            "[CV 5/10] END ....C=100, gamma=0.01, kernel=rbf;, score=0.868 total time=   0.2s\n",
            "[CV 6/10] END ....C=100, gamma=0.01, kernel=rbf;, score=0.819 total time=   0.3s\n",
            "[CV 7/10] END ....C=100, gamma=0.01, kernel=rbf;, score=0.812 total time=   0.2s\n",
            "[CV 8/10] END ....C=100, gamma=0.01, kernel=rbf;, score=0.839 total time=   0.2s\n",
            "[CV 9/10] END ....C=100, gamma=0.01, kernel=rbf;, score=0.853 total time=   0.3s\n",
            "[CV 10/10] END ...C=100, gamma=0.01, kernel=rbf;, score=0.902 total time=   0.4s\n",
            "[CV 1/10] END ...C=100, gamma=0.001, kernel=rbf;, score=0.993 total time=   0.1s\n",
            "[CV 2/10] END ...C=100, gamma=0.001, kernel=rbf;, score=1.000 total time=   0.1s\n",
            "[CV 3/10] END ...C=100, gamma=0.001, kernel=rbf;, score=0.986 total time=   0.1s\n",
            "[CV 4/10] END ...C=100, gamma=0.001, kernel=rbf;, score=0.986 total time=   0.1s\n",
            "[CV 5/10] END ...C=100, gamma=0.001, kernel=rbf;, score=0.993 total time=   0.1s\n",
            "[CV 6/10] END ...C=100, gamma=0.001, kernel=rbf;, score=0.979 total time=   0.1s\n",
            "[CV 7/10] END ...C=100, gamma=0.001, kernel=rbf;, score=0.986 total time=   0.1s\n",
            "[CV 8/10] END ...C=100, gamma=0.001, kernel=rbf;, score=0.986 total time=   0.1s\n",
            "[CV 9/10] END ...C=100, gamma=0.001, kernel=rbf;, score=1.000 total time=   0.1s\n",
            "[CV 10/10] END ..C=100, gamma=0.001, kernel=rbf;, score=1.000 total time=   0.1s\n",
            "[CV 1/10] END ..C=100, gamma=0.0001, kernel=rbf;, score=0.986 total time=   0.1s\n",
            "[CV 2/10] END ..C=100, gamma=0.0001, kernel=rbf;, score=1.000 total time=   0.1s\n",
            "[CV 3/10] END ..C=100, gamma=0.0001, kernel=rbf;, score=0.979 total time=   0.1s\n",
            "[CV 4/10] END ..C=100, gamma=0.0001, kernel=rbf;, score=0.979 total time=   0.1s\n",
            "[CV 5/10] END ..C=100, gamma=0.0001, kernel=rbf;, score=0.986 total time=   0.1s\n",
            "[CV 6/10] END ..C=100, gamma=0.0001, kernel=rbf;, score=0.979 total time=   0.1s\n",
            "[CV 7/10] END ..C=100, gamma=0.0001, kernel=rbf;, score=0.986 total time=   0.1s\n",
            "[CV 8/10] END ..C=100, gamma=0.0001, kernel=rbf;, score=0.986 total time=   0.1s\n",
            "[CV 9/10] END ..C=100, gamma=0.0001, kernel=rbf;, score=0.972 total time=   0.1s\n",
            "[CV 10/10] END .C=100, gamma=0.0001, kernel=rbf;, score=1.000 total time=   0.1s\n",
            "[CV 1/10] END ......C=1000, gamma=1, kernel=rbf;, score=0.097 total time=   0.4s\n",
            "[CV 2/10] END ......C=1000, gamma=1, kernel=rbf;, score=0.097 total time=   0.4s\n",
            "[CV 3/10] END ......C=1000, gamma=1, kernel=rbf;, score=0.097 total time=   0.4s\n",
            "[CV 4/10] END ......C=1000, gamma=1, kernel=rbf;, score=0.097 total time=   0.4s\n",
            "[CV 5/10] END ......C=1000, gamma=1, kernel=rbf;, score=0.097 total time=   0.4s\n",
            "[CV 6/10] END ......C=1000, gamma=1, kernel=rbf;, score=0.201 total time=   0.4s\n",
            "[CV 7/10] END ......C=1000, gamma=1, kernel=rbf;, score=0.104 total time=   0.4s\n",
            "[CV 8/10] END ......C=1000, gamma=1, kernel=rbf;, score=0.098 total time=   0.3s\n",
            "[CV 9/10] END ......C=1000, gamma=1, kernel=rbf;, score=0.098 total time=   0.3s\n",
            "[CV 10/10] END .....C=1000, gamma=1, kernel=rbf;, score=0.098 total time=   0.3s\n",
            "[CV 1/10] END ....C=1000, gamma=0.1, kernel=rbf;, score=0.097 total time=   0.2s\n",
            "[CV 2/10] END ....C=1000, gamma=0.1, kernel=rbf;, score=0.097 total time=   0.2s\n",
            "[CV 3/10] END ....C=1000, gamma=0.1, kernel=rbf;, score=0.097 total time=   0.2s\n",
            "[CV 4/10] END ....C=1000, gamma=0.1, kernel=rbf;, score=0.097 total time=   0.2s\n",
            "[CV 5/10] END ....C=1000, gamma=0.1, kernel=rbf;, score=0.097 total time=   0.2s\n",
            "[CV 6/10] END ....C=1000, gamma=0.1, kernel=rbf;, score=0.118 total time=   0.3s\n",
            "[CV 7/10] END ....C=1000, gamma=0.1, kernel=rbf;, score=0.125 total time=   0.3s\n",
            "[CV 8/10] END ....C=1000, gamma=0.1, kernel=rbf;, score=0.098 total time=   0.3s\n",
            "[CV 9/10] END ....C=1000, gamma=0.1, kernel=rbf;, score=0.098 total time=   0.3s\n",
            "[CV 10/10] END ...C=1000, gamma=0.1, kernel=rbf;, score=0.098 total time=   0.3s\n",
            "[CV 1/10] END ...C=1000, gamma=0.01, kernel=rbf;, score=0.840 total time=   0.3s\n",
            "[CV 2/10] END ...C=1000, gamma=0.01, kernel=rbf;, score=0.861 total time=   0.2s\n",
            "[CV 3/10] END ...C=1000, gamma=0.01, kernel=rbf;, score=0.799 total time=   0.3s\n",
            "[CV 4/10] END ...C=1000, gamma=0.01, kernel=rbf;, score=0.875 total time=   0.2s\n",
            "[CV 5/10] END ...C=1000, gamma=0.01, kernel=rbf;, score=0.868 total time=   0.2s\n",
            "[CV 6/10] END ...C=1000, gamma=0.01, kernel=rbf;, score=0.819 total time=   0.2s\n",
            "[CV 7/10] END ...C=1000, gamma=0.01, kernel=rbf;, score=0.812 total time=   0.3s\n",
            "[CV 8/10] END ...C=1000, gamma=0.01, kernel=rbf;, score=0.839 total time=   0.2s\n",
            "[CV 9/10] END ...C=1000, gamma=0.01, kernel=rbf;, score=0.853 total time=   0.2s\n",
            "[CV 10/10] END ..C=1000, gamma=0.01, kernel=rbf;, score=0.902 total time=   0.2s\n",
            "[CV 1/10] END ..C=1000, gamma=0.001, kernel=rbf;, score=0.993 total time=   0.1s\n",
            "[CV 2/10] END ..C=1000, gamma=0.001, kernel=rbf;, score=1.000 total time=   0.1s\n",
            "[CV 3/10] END ..C=1000, gamma=0.001, kernel=rbf;, score=0.986 total time=   0.1s\n",
            "[CV 4/10] END ..C=1000, gamma=0.001, kernel=rbf;, score=0.986 total time=   0.1s\n",
            "[CV 5/10] END ..C=1000, gamma=0.001, kernel=rbf;, score=0.993 total time=   0.1s\n",
            "[CV 6/10] END ..C=1000, gamma=0.001, kernel=rbf;, score=0.979 total time=   0.1s\n",
            "[CV 7/10] END ..C=1000, gamma=0.001, kernel=rbf;, score=0.986 total time=   0.1s\n",
            "[CV 8/10] END ..C=1000, gamma=0.001, kernel=rbf;, score=0.986 total time=   0.1s\n",
            "[CV 9/10] END ..C=1000, gamma=0.001, kernel=rbf;, score=1.000 total time=   0.1s\n",
            "[CV 10/10] END .C=1000, gamma=0.001, kernel=rbf;, score=1.000 total time=   0.1s\n",
            "[CV 1/10] END .C=1000, gamma=0.0001, kernel=rbf;, score=0.986 total time=   0.0s\n",
            "[CV 2/10] END .C=1000, gamma=0.0001, kernel=rbf;, score=1.000 total time=   0.0s\n",
            "[CV 3/10] END .C=1000, gamma=0.0001, kernel=rbf;, score=0.979 total time=   0.0s\n",
            "[CV 4/10] END .C=1000, gamma=0.0001, kernel=rbf;, score=0.979 total time=   0.0s\n",
            "[CV 5/10] END .C=1000, gamma=0.0001, kernel=rbf;, score=0.986 total time=   0.0s\n",
            "[CV 6/10] END .C=1000, gamma=0.0001, kernel=rbf;, score=0.979 total time=   0.0s\n",
            "[CV 7/10] END .C=1000, gamma=0.0001, kernel=rbf;, score=0.986 total time=   0.0s\n",
            "[CV 8/10] END .C=1000, gamma=0.0001, kernel=rbf;, score=0.986 total time=   0.0s\n",
            "[CV 9/10] END .C=1000, gamma=0.0001, kernel=rbf;, score=0.972 total time=   0.0s\n",
            "[CV 10/10] END C=1000, gamma=0.0001, kernel=rbf;, score=1.000 total time=   0.0s\n"
          ]
        },
        {
          "output_type": "execute_result",
          "data": {
            "text/plain": [
              "GridSearchCV(cv=10, estimator=SVC(),\n",
              "             param_grid={'C': [0.1, 1, 10, 100, 1000],\n",
              "                         'gamma': [1, 0.1, 0.01, 0.001, 0.0001],\n",
              "                         'kernel': ['rbf']},\n",
              "             verbose=3)"
            ],
            "text/html": [
              "<style>#sk-container-id-2 {color: black;background-color: white;}#sk-container-id-2 pre{padding: 0;}#sk-container-id-2 div.sk-toggleable {background-color: white;}#sk-container-id-2 label.sk-toggleable__label {cursor: pointer;display: block;width: 100%;margin-bottom: 0;padding: 0.3em;box-sizing: border-box;text-align: center;}#sk-container-id-2 label.sk-toggleable__label-arrow:before {content: \"▸\";float: left;margin-right: 0.25em;color: #696969;}#sk-container-id-2 label.sk-toggleable__label-arrow:hover:before {color: black;}#sk-container-id-2 div.sk-estimator:hover label.sk-toggleable__label-arrow:before {color: black;}#sk-container-id-2 div.sk-toggleable__content {max-height: 0;max-width: 0;overflow: hidden;text-align: left;background-color: #f0f8ff;}#sk-container-id-2 div.sk-toggleable__content pre {margin: 0.2em;color: black;border-radius: 0.25em;background-color: #f0f8ff;}#sk-container-id-2 input.sk-toggleable__control:checked~div.sk-toggleable__content {max-height: 200px;max-width: 100%;overflow: auto;}#sk-container-id-2 input.sk-toggleable__control:checked~label.sk-toggleable__label-arrow:before {content: \"▾\";}#sk-container-id-2 div.sk-estimator input.sk-toggleable__control:checked~label.sk-toggleable__label {background-color: #d4ebff;}#sk-container-id-2 div.sk-label input.sk-toggleable__control:checked~label.sk-toggleable__label {background-color: #d4ebff;}#sk-container-id-2 input.sk-hidden--visually {border: 0;clip: rect(1px 1px 1px 1px);clip: rect(1px, 1px, 1px, 1px);height: 1px;margin: -1px;overflow: hidden;padding: 0;position: absolute;width: 1px;}#sk-container-id-2 div.sk-estimator {font-family: monospace;background-color: #f0f8ff;border: 1px dotted black;border-radius: 0.25em;box-sizing: border-box;margin-bottom: 0.5em;}#sk-container-id-2 div.sk-estimator:hover {background-color: #d4ebff;}#sk-container-id-2 div.sk-parallel-item::after {content: \"\";width: 100%;border-bottom: 1px solid gray;flex-grow: 1;}#sk-container-id-2 div.sk-label:hover label.sk-toggleable__label {background-color: #d4ebff;}#sk-container-id-2 div.sk-serial::before {content: \"\";position: absolute;border-left: 1px solid gray;box-sizing: border-box;top: 0;bottom: 0;left: 50%;z-index: 0;}#sk-container-id-2 div.sk-serial {display: flex;flex-direction: column;align-items: center;background-color: white;padding-right: 0.2em;padding-left: 0.2em;position: relative;}#sk-container-id-2 div.sk-item {position: relative;z-index: 1;}#sk-container-id-2 div.sk-parallel {display: flex;align-items: stretch;justify-content: center;background-color: white;position: relative;}#sk-container-id-2 div.sk-item::before, #sk-container-id-2 div.sk-parallel-item::before {content: \"\";position: absolute;border-left: 1px solid gray;box-sizing: border-box;top: 0;bottom: 0;left: 50%;z-index: -1;}#sk-container-id-2 div.sk-parallel-item {display: flex;flex-direction: column;z-index: 1;position: relative;background-color: white;}#sk-container-id-2 div.sk-parallel-item:first-child::after {align-self: flex-end;width: 50%;}#sk-container-id-2 div.sk-parallel-item:last-child::after {align-self: flex-start;width: 50%;}#sk-container-id-2 div.sk-parallel-item:only-child::after {width: 0;}#sk-container-id-2 div.sk-dashed-wrapped {border: 1px dashed gray;margin: 0 0.4em 0.5em 0.4em;box-sizing: border-box;padding-bottom: 0.4em;background-color: white;}#sk-container-id-2 div.sk-label label {font-family: monospace;font-weight: bold;display: inline-block;line-height: 1.2em;}#sk-container-id-2 div.sk-label-container {text-align: center;}#sk-container-id-2 div.sk-container {/* jupyter's `normalize.less` sets `[hidden] { display: none; }` but bootstrap.min.css set `[hidden] { display: none !important; }` so we also need the `!important` here to be able to override the default hidden behavior on the sphinx rendered scikit-learn.org. See: https://github.com/scikit-learn/scikit-learn/issues/21755 */display: inline-block !important;position: relative;}#sk-container-id-2 div.sk-text-repr-fallback {display: none;}</style><div id=\"sk-container-id-2\" class=\"sk-top-container\"><div class=\"sk-text-repr-fallback\"><pre>GridSearchCV(cv=10, estimator=SVC(),\n",
              "             param_grid={&#x27;C&#x27;: [0.1, 1, 10, 100, 1000],\n",
              "                         &#x27;gamma&#x27;: [1, 0.1, 0.01, 0.001, 0.0001],\n",
              "                         &#x27;kernel&#x27;: [&#x27;rbf&#x27;]},\n",
              "             verbose=3)</pre><b>In a Jupyter environment, please rerun this cell to show the HTML representation or trust the notebook. <br />On GitHub, the HTML representation is unable to render, please try loading this page with nbviewer.org.</b></div><div class=\"sk-container\" hidden><div class=\"sk-item sk-dashed-wrapped\"><div class=\"sk-label-container\"><div class=\"sk-label sk-toggleable\"><input class=\"sk-toggleable__control sk-hidden--visually\" id=\"sk-estimator-id-4\" type=\"checkbox\" ><label for=\"sk-estimator-id-4\" class=\"sk-toggleable__label sk-toggleable__label-arrow\">GridSearchCV</label><div class=\"sk-toggleable__content\"><pre>GridSearchCV(cv=10, estimator=SVC(),\n",
              "             param_grid={&#x27;C&#x27;: [0.1, 1, 10, 100, 1000],\n",
              "                         &#x27;gamma&#x27;: [1, 0.1, 0.01, 0.001, 0.0001],\n",
              "                         &#x27;kernel&#x27;: [&#x27;rbf&#x27;]},\n",
              "             verbose=3)</pre></div></div></div><div class=\"sk-parallel\"><div class=\"sk-parallel-item\"><div class=\"sk-item\"><div class=\"sk-label-container\"><div class=\"sk-label sk-toggleable\"><input class=\"sk-toggleable__control sk-hidden--visually\" id=\"sk-estimator-id-5\" type=\"checkbox\" ><label for=\"sk-estimator-id-5\" class=\"sk-toggleable__label sk-toggleable__label-arrow\">estimator: SVC</label><div class=\"sk-toggleable__content\"><pre>SVC()</pre></div></div></div><div class=\"sk-serial\"><div class=\"sk-item\"><div class=\"sk-estimator sk-toggleable\"><input class=\"sk-toggleable__control sk-hidden--visually\" id=\"sk-estimator-id-6\" type=\"checkbox\" ><label for=\"sk-estimator-id-6\" class=\"sk-toggleable__label sk-toggleable__label-arrow\">SVC</label><div class=\"sk-toggleable__content\"><pre>SVC()</pre></div></div></div></div></div></div></div></div></div></div>"
            ]
          },
          "metadata": {},
          "execution_count": 18
        }
      ]
    },
    {
      "cell_type": "code",
      "source": [
        "svc_GridSearch.score(X_test, y_test)"
      ],
      "metadata": {
        "colab": {
          "base_uri": "https://localhost:8080/"
        },
        "id": "Odjm9A0kWrkk",
        "outputId": "4c2e3afd-a9ef-482f-af45-bed6315d92e1"
      },
      "execution_count": 19,
      "outputs": [
        {
          "output_type": "execute_result",
          "data": {
            "text/plain": [
              "0.9888888888888889"
            ]
          },
          "metadata": {},
          "execution_count": 19
        }
      ]
    },
    {
      "cell_type": "markdown",
      "source": [
        "SVC score = 98.9%"
      ],
      "metadata": {
        "id": "b6vIghe-Xm12"
      }
    },
    {
      "cell_type": "code",
      "source": [],
      "metadata": {
        "id": "UgP1OWfkXq3U"
      },
      "execution_count": null,
      "outputs": []
    }
  ]
}